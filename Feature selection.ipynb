{
  "nbformat": 4,
  "nbformat_minor": 0,
  "metadata": {
    "colab": {
      "provenance": []
    },
    "kernelspec": {
      "name": "python3",
      "display_name": "Python 3"
    },
    "language_info": {
      "name": "python"
    }
  },
  "cells": [
    {
      "cell_type": "code",
      "execution_count": 14,
      "metadata": {
        "id": "laSpTvactOYU"
      },
      "outputs": [],
      "source": [
        "import numpy as np\n",
        "import pandas as pd\n",
        "from sklearn.impute import KNNImputer\n",
        "from scipy.stats import chi2_contingency\n"
      ]
    },
    {
      "cell_type": "code",
      "source": [
        "df=pd.read_csv('Student.csv')\n",
        "print(df)"
      ],
      "metadata": {
        "colab": {
          "base_uri": "https://localhost:8080/"
        },
        "id": "96d6HJTUtlZo",
        "outputId": "8c05bb4d-3bed-47d9-9897-09ababa73ac1"
      },
      "execution_count": 15,
      "outputs": [
        {
          "output_type": "stream",
          "name": "stdout",
          "text": [
            "   S_ID   F_name    L_name  No_Sub    Fees\n",
            "0  H001   Sylvia    Reehal     1.0  1500.0\n",
            "1  H002     Sara  Chitkara     NaN  2750.0\n",
            "2  H003        _     Arora     2.0  2750.0\n",
            "3  H004  salomon    Sharma     2.0     NaN\n",
            "4  H005    david         _     1.0  3000.0\n",
            "5  H006    jonas    joseph     1.0  3000.0\n",
            "6  H007     adam     moham     2.0  6000.0\n"
          ]
        }
      ]
    },
    {
      "cell_type": "code",
      "source": [
        "df.replace (\"_\", np.nan, inplace= True)\n",
        "print(df)"
      ],
      "metadata": {
        "colab": {
          "base_uri": "https://localhost:8080/"
        },
        "id": "NvZKwhghuC4R",
        "outputId": "1038f262-29d3-42fe-ae98-1ba6618be13b"
      },
      "execution_count": 16,
      "outputs": [
        {
          "output_type": "stream",
          "name": "stdout",
          "text": [
            "   S_ID   F_name    L_name  No_Sub    Fees\n",
            "0  H001   Sylvia    Reehal     1.0  1500.0\n",
            "1  H002     Sara  Chitkara     NaN  2750.0\n",
            "2  H003      NaN     Arora     2.0  2750.0\n",
            "3  H004  salomon    Sharma     2.0     NaN\n",
            "4  H005    david       NaN     1.0  3000.0\n",
            "5  H006    jonas    joseph     1.0  3000.0\n",
            "6  H007     adam     moham     2.0  6000.0\n"
          ]
        }
      ]
    },
    {
      "cell_type": "code",
      "source": [
        "df[\"Fees\"] = pd.to_numeric(df[\"Fees\"])\n",
        "df[\"Fees\"].fillna(df[\"Fees\"].mean(), inplace=True)\n",
        "print(df)\n",
        "print(df.isna().sum())  # To confirm there are no missing values left\n",
        "\n"
      ],
      "metadata": {
        "colab": {
          "base_uri": "https://localhost:8080/"
        },
        "id": "5If1IJK1vM4e",
        "outputId": "619f2b10-ae84-46df-ba86-06800778af6a"
      },
      "execution_count": 17,
      "outputs": [
        {
          "output_type": "stream",
          "name": "stdout",
          "text": [
            "   S_ID   F_name    L_name  No_Sub         Fees\n",
            "0  H001   Sylvia    Reehal     1.0  1500.000000\n",
            "1  H002     Sara  Chitkara     NaN  2750.000000\n",
            "2  H003      NaN     Arora     2.0  2750.000000\n",
            "3  H004  salomon    Sharma     2.0  3166.666667\n",
            "4  H005    david       NaN     1.0  3000.000000\n",
            "5  H006    jonas    joseph     1.0  3000.000000\n",
            "6  H007     adam     moham     2.0  6000.000000\n",
            "S_ID      0\n",
            "F_name    1\n",
            "L_name    1\n",
            "No_Sub    1\n",
            "Fees      0\n",
            "dtype: int64\n"
          ]
        },
        {
          "output_type": "stream",
          "name": "stderr",
          "text": [
            "<ipython-input-17-2e7f3c8ac28c>:2: FutureWarning: A value is trying to be set on a copy of a DataFrame or Series through chained assignment using an inplace method.\n",
            "The behavior will change in pandas 3.0. This inplace method will never work because the intermediate object on which we are setting values always behaves as a copy.\n",
            "\n",
            "For example, when doing 'df[col].method(value, inplace=True)', try using 'df.method({col: value}, inplace=True)' or df[col] = df[col].method(value) instead, to perform the operation inplace on the original object.\n",
            "\n",
            "\n",
            "  df[\"Fees\"].fillna(df[\"Fees\"].mean(), inplace=True)\n"
          ]
        }
      ]
    },
    {
      "cell_type": "code",
      "source": [
        "df[\"No_Sub\"] = pd.to_numeric(df[\"No_Sub\"])\n",
        "df[\"No_Sub\"].fillna(df[\"No_Sub\"].median(), inplace=True)\n",
        "print(df)\n",
        "print(df.isna().sum())  # To confirm there are no missing values left\n",
        "\n"
      ],
      "metadata": {
        "colab": {
          "base_uri": "https://localhost:8080/"
        },
        "id": "Olvo19GAwDJ4",
        "outputId": "7395bf3f-4e21-45c0-bf27-cf2c8ec06564"
      },
      "execution_count": 18,
      "outputs": [
        {
          "output_type": "stream",
          "name": "stdout",
          "text": [
            "   S_ID   F_name    L_name  No_Sub         Fees\n",
            "0  H001   Sylvia    Reehal     1.0  1500.000000\n",
            "1  H002     Sara  Chitkara     1.5  2750.000000\n",
            "2  H003      NaN     Arora     2.0  2750.000000\n",
            "3  H004  salomon    Sharma     2.0  3166.666667\n",
            "4  H005    david       NaN     1.0  3000.000000\n",
            "5  H006    jonas    joseph     1.0  3000.000000\n",
            "6  H007     adam     moham     2.0  6000.000000\n",
            "S_ID      0\n",
            "F_name    1\n",
            "L_name    1\n",
            "No_Sub    0\n",
            "Fees      0\n",
            "dtype: int64\n"
          ]
        },
        {
          "output_type": "stream",
          "name": "stderr",
          "text": [
            "<ipython-input-18-938d65bf8466>:2: FutureWarning: A value is trying to be set on a copy of a DataFrame or Series through chained assignment using an inplace method.\n",
            "The behavior will change in pandas 3.0. This inplace method will never work because the intermediate object on which we are setting values always behaves as a copy.\n",
            "\n",
            "For example, when doing 'df[col].method(value, inplace=True)', try using 'df.method({col: value}, inplace=True)' or df[col] = df[col].method(value) instead, to perform the operation inplace on the original object.\n",
            "\n",
            "\n",
            "  df[\"No_Sub\"].fillna(df[\"No_Sub\"].median(), inplace=True)\n"
          ]
        }
      ]
    },
    {
      "cell_type": "code",
      "source": [
        "# Add the new field 'Distinction' with the provided values\n",
        "df['Distinction'] = ['Y', 'N', 'Y', 'NA', 'N', 'Y', 'N']\n",
        "df.head()"
      ],
      "metadata": {
        "id": "qhc4c6KbwHtR",
        "colab": {
          "base_uri": "https://localhost:8080/",
          "height": 206
        },
        "outputId": "6696e830-62fc-4ce5-b428-464d1e51a2af"
      },
      "execution_count": 19,
      "outputs": [
        {
          "output_type": "execute_result",
          "data": {
            "text/plain": [
              "   S_ID   F_name    L_name  No_Sub         Fees Distinction\n",
              "0  H001   Sylvia    Reehal     1.0  1500.000000           Y\n",
              "1  H002     Sara  Chitkara     1.5  2750.000000           N\n",
              "2  H003      NaN     Arora     2.0  2750.000000           Y\n",
              "3  H004  salomon    Sharma     2.0  3166.666667          NA\n",
              "4  H005    david       NaN     1.0  3000.000000           N"
            ],
            "text/html": [
              "\n",
              "  <div id=\"df-722c775a-c242-48aa-8429-4685e8159891\" class=\"colab-df-container\">\n",
              "    <div>\n",
              "<style scoped>\n",
              "    .dataframe tbody tr th:only-of-type {\n",
              "        vertical-align: middle;\n",
              "    }\n",
              "\n",
              "    .dataframe tbody tr th {\n",
              "        vertical-align: top;\n",
              "    }\n",
              "\n",
              "    .dataframe thead th {\n",
              "        text-align: right;\n",
              "    }\n",
              "</style>\n",
              "<table border=\"1\" class=\"dataframe\">\n",
              "  <thead>\n",
              "    <tr style=\"text-align: right;\">\n",
              "      <th></th>\n",
              "      <th>S_ID</th>\n",
              "      <th>F_name</th>\n",
              "      <th>L_name</th>\n",
              "      <th>No_Sub</th>\n",
              "      <th>Fees</th>\n",
              "      <th>Distinction</th>\n",
              "    </tr>\n",
              "  </thead>\n",
              "  <tbody>\n",
              "    <tr>\n",
              "      <th>0</th>\n",
              "      <td>H001</td>\n",
              "      <td>Sylvia</td>\n",
              "      <td>Reehal</td>\n",
              "      <td>1.0</td>\n",
              "      <td>1500.000000</td>\n",
              "      <td>Y</td>\n",
              "    </tr>\n",
              "    <tr>\n",
              "      <th>1</th>\n",
              "      <td>H002</td>\n",
              "      <td>Sara</td>\n",
              "      <td>Chitkara</td>\n",
              "      <td>1.5</td>\n",
              "      <td>2750.000000</td>\n",
              "      <td>N</td>\n",
              "    </tr>\n",
              "    <tr>\n",
              "      <th>2</th>\n",
              "      <td>H003</td>\n",
              "      <td>NaN</td>\n",
              "      <td>Arora</td>\n",
              "      <td>2.0</td>\n",
              "      <td>2750.000000</td>\n",
              "      <td>Y</td>\n",
              "    </tr>\n",
              "    <tr>\n",
              "      <th>3</th>\n",
              "      <td>H004</td>\n",
              "      <td>salomon</td>\n",
              "      <td>Sharma</td>\n",
              "      <td>2.0</td>\n",
              "      <td>3166.666667</td>\n",
              "      <td>NA</td>\n",
              "    </tr>\n",
              "    <tr>\n",
              "      <th>4</th>\n",
              "      <td>H005</td>\n",
              "      <td>david</td>\n",
              "      <td>NaN</td>\n",
              "      <td>1.0</td>\n",
              "      <td>3000.000000</td>\n",
              "      <td>N</td>\n",
              "    </tr>\n",
              "  </tbody>\n",
              "</table>\n",
              "</div>\n",
              "    <div class=\"colab-df-buttons\">\n",
              "\n",
              "  <div class=\"colab-df-container\">\n",
              "    <button class=\"colab-df-convert\" onclick=\"convertToInteractive('df-722c775a-c242-48aa-8429-4685e8159891')\"\n",
              "            title=\"Convert this dataframe to an interactive table.\"\n",
              "            style=\"display:none;\">\n",
              "\n",
              "  <svg xmlns=\"http://www.w3.org/2000/svg\" height=\"24px\" viewBox=\"0 -960 960 960\">\n",
              "    <path d=\"M120-120v-720h720v720H120Zm60-500h600v-160H180v160Zm220 220h160v-160H400v160Zm0 220h160v-160H400v160ZM180-400h160v-160H180v160Zm440 0h160v-160H620v160ZM180-180h160v-160H180v160Zm440 0h160v-160H620v160Z\"/>\n",
              "  </svg>\n",
              "    </button>\n",
              "\n",
              "  <style>\n",
              "    .colab-df-container {\n",
              "      display:flex;\n",
              "      gap: 12px;\n",
              "    }\n",
              "\n",
              "    .colab-df-convert {\n",
              "      background-color: #E8F0FE;\n",
              "      border: none;\n",
              "      border-radius: 50%;\n",
              "      cursor: pointer;\n",
              "      display: none;\n",
              "      fill: #1967D2;\n",
              "      height: 32px;\n",
              "      padding: 0 0 0 0;\n",
              "      width: 32px;\n",
              "    }\n",
              "\n",
              "    .colab-df-convert:hover {\n",
              "      background-color: #E2EBFA;\n",
              "      box-shadow: 0px 1px 2px rgba(60, 64, 67, 0.3), 0px 1px 3px 1px rgba(60, 64, 67, 0.15);\n",
              "      fill: #174EA6;\n",
              "    }\n",
              "\n",
              "    .colab-df-buttons div {\n",
              "      margin-bottom: 4px;\n",
              "    }\n",
              "\n",
              "    [theme=dark] .colab-df-convert {\n",
              "      background-color: #3B4455;\n",
              "      fill: #D2E3FC;\n",
              "    }\n",
              "\n",
              "    [theme=dark] .colab-df-convert:hover {\n",
              "      background-color: #434B5C;\n",
              "      box-shadow: 0px 1px 3px 1px rgba(0, 0, 0, 0.15);\n",
              "      filter: drop-shadow(0px 1px 2px rgba(0, 0, 0, 0.3));\n",
              "      fill: #FFFFFF;\n",
              "    }\n",
              "  </style>\n",
              "\n",
              "    <script>\n",
              "      const buttonEl =\n",
              "        document.querySelector('#df-722c775a-c242-48aa-8429-4685e8159891 button.colab-df-convert');\n",
              "      buttonEl.style.display =\n",
              "        google.colab.kernel.accessAllowed ? 'block' : 'none';\n",
              "\n",
              "      async function convertToInteractive(key) {\n",
              "        const element = document.querySelector('#df-722c775a-c242-48aa-8429-4685e8159891');\n",
              "        const dataTable =\n",
              "          await google.colab.kernel.invokeFunction('convertToInteractive',\n",
              "                                                    [key], {});\n",
              "        if (!dataTable) return;\n",
              "\n",
              "        const docLinkHtml = 'Like what you see? Visit the ' +\n",
              "          '<a target=\"_blank\" href=https://colab.research.google.com/notebooks/data_table.ipynb>data table notebook</a>'\n",
              "          + ' to learn more about interactive tables.';\n",
              "        element.innerHTML = '';\n",
              "        dataTable['output_type'] = 'display_data';\n",
              "        await google.colab.output.renderOutput(dataTable, element);\n",
              "        const docLink = document.createElement('div');\n",
              "        docLink.innerHTML = docLinkHtml;\n",
              "        element.appendChild(docLink);\n",
              "      }\n",
              "    </script>\n",
              "  </div>\n",
              "\n",
              "\n",
              "<div id=\"df-7f563039-f0c1-489f-94a2-d90ef12188a1\">\n",
              "  <button class=\"colab-df-quickchart\" onclick=\"quickchart('df-7f563039-f0c1-489f-94a2-d90ef12188a1')\"\n",
              "            title=\"Suggest charts\"\n",
              "            style=\"display:none;\">\n",
              "\n",
              "<svg xmlns=\"http://www.w3.org/2000/svg\" height=\"24px\"viewBox=\"0 0 24 24\"\n",
              "     width=\"24px\">\n",
              "    <g>\n",
              "        <path d=\"M19 3H5c-1.1 0-2 .9-2 2v14c0 1.1.9 2 2 2h14c1.1 0 2-.9 2-2V5c0-1.1-.9-2-2-2zM9 17H7v-7h2v7zm4 0h-2V7h2v10zm4 0h-2v-4h2v4z\"/>\n",
              "    </g>\n",
              "</svg>\n",
              "  </button>\n",
              "\n",
              "<style>\n",
              "  .colab-df-quickchart {\n",
              "      --bg-color: #E8F0FE;\n",
              "      --fill-color: #1967D2;\n",
              "      --hover-bg-color: #E2EBFA;\n",
              "      --hover-fill-color: #174EA6;\n",
              "      --disabled-fill-color: #AAA;\n",
              "      --disabled-bg-color: #DDD;\n",
              "  }\n",
              "\n",
              "  [theme=dark] .colab-df-quickchart {\n",
              "      --bg-color: #3B4455;\n",
              "      --fill-color: #D2E3FC;\n",
              "      --hover-bg-color: #434B5C;\n",
              "      --hover-fill-color: #FFFFFF;\n",
              "      --disabled-bg-color: #3B4455;\n",
              "      --disabled-fill-color: #666;\n",
              "  }\n",
              "\n",
              "  .colab-df-quickchart {\n",
              "    background-color: var(--bg-color);\n",
              "    border: none;\n",
              "    border-radius: 50%;\n",
              "    cursor: pointer;\n",
              "    display: none;\n",
              "    fill: var(--fill-color);\n",
              "    height: 32px;\n",
              "    padding: 0;\n",
              "    width: 32px;\n",
              "  }\n",
              "\n",
              "  .colab-df-quickchart:hover {\n",
              "    background-color: var(--hover-bg-color);\n",
              "    box-shadow: 0 1px 2px rgba(60, 64, 67, 0.3), 0 1px 3px 1px rgba(60, 64, 67, 0.15);\n",
              "    fill: var(--button-hover-fill-color);\n",
              "  }\n",
              "\n",
              "  .colab-df-quickchart-complete:disabled,\n",
              "  .colab-df-quickchart-complete:disabled:hover {\n",
              "    background-color: var(--disabled-bg-color);\n",
              "    fill: var(--disabled-fill-color);\n",
              "    box-shadow: none;\n",
              "  }\n",
              "\n",
              "  .colab-df-spinner {\n",
              "    border: 2px solid var(--fill-color);\n",
              "    border-color: transparent;\n",
              "    border-bottom-color: var(--fill-color);\n",
              "    animation:\n",
              "      spin 1s steps(1) infinite;\n",
              "  }\n",
              "\n",
              "  @keyframes spin {\n",
              "    0% {\n",
              "      border-color: transparent;\n",
              "      border-bottom-color: var(--fill-color);\n",
              "      border-left-color: var(--fill-color);\n",
              "    }\n",
              "    20% {\n",
              "      border-color: transparent;\n",
              "      border-left-color: var(--fill-color);\n",
              "      border-top-color: var(--fill-color);\n",
              "    }\n",
              "    30% {\n",
              "      border-color: transparent;\n",
              "      border-left-color: var(--fill-color);\n",
              "      border-top-color: var(--fill-color);\n",
              "      border-right-color: var(--fill-color);\n",
              "    }\n",
              "    40% {\n",
              "      border-color: transparent;\n",
              "      border-right-color: var(--fill-color);\n",
              "      border-top-color: var(--fill-color);\n",
              "    }\n",
              "    60% {\n",
              "      border-color: transparent;\n",
              "      border-right-color: var(--fill-color);\n",
              "    }\n",
              "    80% {\n",
              "      border-color: transparent;\n",
              "      border-right-color: var(--fill-color);\n",
              "      border-bottom-color: var(--fill-color);\n",
              "    }\n",
              "    90% {\n",
              "      border-color: transparent;\n",
              "      border-bottom-color: var(--fill-color);\n",
              "    }\n",
              "  }\n",
              "</style>\n",
              "\n",
              "  <script>\n",
              "    async function quickchart(key) {\n",
              "      const quickchartButtonEl =\n",
              "        document.querySelector('#' + key + ' button');\n",
              "      quickchartButtonEl.disabled = true;  // To prevent multiple clicks.\n",
              "      quickchartButtonEl.classList.add('colab-df-spinner');\n",
              "      try {\n",
              "        const charts = await google.colab.kernel.invokeFunction(\n",
              "            'suggestCharts', [key], {});\n",
              "      } catch (error) {\n",
              "        console.error('Error during call to suggestCharts:', error);\n",
              "      }\n",
              "      quickchartButtonEl.classList.remove('colab-df-spinner');\n",
              "      quickchartButtonEl.classList.add('colab-df-quickchart-complete');\n",
              "    }\n",
              "    (() => {\n",
              "      let quickchartButtonEl =\n",
              "        document.querySelector('#df-7f563039-f0c1-489f-94a2-d90ef12188a1 button');\n",
              "      quickchartButtonEl.style.display =\n",
              "        google.colab.kernel.accessAllowed ? 'block' : 'none';\n",
              "    })();\n",
              "  </script>\n",
              "</div>\n",
              "\n",
              "    </div>\n",
              "  </div>\n"
            ],
            "application/vnd.google.colaboratory.intrinsic+json": {
              "type": "dataframe",
              "variable_name": "df",
              "summary": "{\n  \"name\": \"df\",\n  \"rows\": 7,\n  \"fields\": [\n    {\n      \"column\": \"S_ID\",\n      \"properties\": {\n        \"dtype\": \"string\",\n        \"num_unique_values\": 7,\n        \"samples\": [\n          \"H001\",\n          \"H002\",\n          \"H006\"\n        ],\n        \"semantic_type\": \"\",\n        \"description\": \"\"\n      }\n    },\n    {\n      \"column\": \"F_name\",\n      \"properties\": {\n        \"dtype\": \"string\",\n        \"num_unique_values\": 6,\n        \"samples\": [\n          \"Sylvia\",\n          \"Sara\",\n          \"adam\"\n        ],\n        \"semantic_type\": \"\",\n        \"description\": \"\"\n      }\n    },\n    {\n      \"column\": \"L_name\",\n      \"properties\": {\n        \"dtype\": \"string\",\n        \"num_unique_values\": 6,\n        \"samples\": [\n          \"Reehal\",\n          \"Chitkara\",\n          \"moham\"\n        ],\n        \"semantic_type\": \"\",\n        \"description\": \"\"\n      }\n    },\n    {\n      \"column\": \"No_Sub\",\n      \"properties\": {\n        \"dtype\": \"number\",\n        \"std\": 0.5,\n        \"min\": 1.0,\n        \"max\": 2.0,\n        \"num_unique_values\": 3,\n        \"samples\": [\n          1.0,\n          1.5,\n          2.0\n        ],\n        \"semantic_type\": \"\",\n        \"description\": \"\"\n      }\n    },\n    {\n      \"column\": \"Fees\",\n      \"properties\": {\n        \"dtype\": \"number\",\n        \"std\": 1366.768288904727,\n        \"min\": 1500.0,\n        \"max\": 6000.0,\n        \"num_unique_values\": 5,\n        \"samples\": [\n          2750.0,\n          6000.0,\n          3166.6666666666665\n        ],\n        \"semantic_type\": \"\",\n        \"description\": \"\"\n      }\n    },\n    {\n      \"column\": \"Distinction\",\n      \"properties\": {\n        \"dtype\": \"category\",\n        \"num_unique_values\": 3,\n        \"samples\": [\n          \"Y\",\n          \"N\",\n          \"NA\"\n        ],\n        \"semantic_type\": \"\",\n        \"description\": \"\"\n      }\n    }\n  ]\n}"
            }
          },
          "metadata": {},
          "execution_count": 19
        }
      ]
    },
    {
      "cell_type": "code",
      "source": [
        "# Convert 'Distinction' values to numeric: Y=1, N=0, NA=np.nan\n",
        "distinction_map = {'Y': 1, 'N': 0, 'NA': np.nan}\n",
        "df['Distinction_numeric'] = df['Distinction'].map(distinction_map)\n",
        "\n",
        "# Compute correlation with No_Sub\n",
        "correlation = df['No_Sub'].corr(df['Distinction_numeric'])\n",
        "\n",
        "print(correlation)"
      ],
      "metadata": {
        "colab": {
          "base_uri": "https://localhost:8080/"
        },
        "id": "ZckES1myZm7g",
        "outputId": "e0e28969-f27c-4541-ced3-4699fbbd01d0"
      },
      "execution_count": 21,
      "outputs": [
        {
          "output_type": "stream",
          "name": "stdout",
          "text": [
            "-0.18569533817705186\n"
          ]
        }
      ]
    },
    {
      "cell_type": "code",
      "source": [
        "# Drop rows with missing values in the relevant columns\n",
        "chi_data = df[['No_Sub', 'Distinction']].dropna()\n",
        "chi_data['No_Sub'] = chi_data['No_Sub'].astype(int).astype(str)\n",
        "\n",
        " #Create a contingency table\n",
        "contingency_table = pd.crosstab(chi_data['No_Sub'], chi_data['Distinction'])\n",
        "# Apply the Chi-Squared test\n",
        "chi2_stat, p_val, dof, expected = chi2_contingency(contingency_table)\n",
        "# Print results\n",
        "print(\"Chi-Squared Statistic:\", chi2_stat)\n",
        "print(\"Degrees of Freedom:\", dof)\n",
        "print(\"P-Value:\", p_val)\n"
      ],
      "metadata": {
        "colab": {
          "base_uri": "https://localhost:8080/"
        },
        "id": "GBzBUiBPdg3r",
        "outputId": "a44b104c-fcc3-4933-e726-7b5b523c7df1"
      },
      "execution_count": 25,
      "outputs": [
        {
          "output_type": "stream",
          "name": "stdout",
          "text": [
            "Chi-Squared Statistic: 1.5555555555555556\n",
            "Degrees of Freedom: 2\n",
            "P-Value: 0.4594258240359268\n"
          ]
        }
      ]
    },
    {
      "cell_type": "code",
      "source": [
        "# Drop rows with missing values\n",
        "filtered_df = df[['No_Sub', 'Fees', 'Distinction_numeric']].dropna()\n",
        "\n",
        "# Compute correlation\n",
        "corr_no_sub = filtered_df['No_Sub'].corr(filtered_df['Distinction_numeric'])\n",
        "corr_fees = filtered_df['Fees'].corr(filtered_df['Distinction_numeric'])\n",
        "\n",
        "print(\"Correlation with Distinction:\")\n",
        "print(\"No_Sub:\", corr_no_sub)\n",
        "print(\"Fees:\", corr_fees)\n"
      ],
      "metadata": {
        "colab": {
          "base_uri": "https://localhost:8080/"
        },
        "id": "tq2MWiCFeXWv",
        "outputId": "2a109bb8-d6e7-45bd-a59f-f5d8f22af940"
      },
      "execution_count": 27,
      "outputs": [
        {
          "output_type": "stream",
          "name": "stdout",
          "text": [
            "Correlation with Distinction:\n",
            "No_Sub: -0.18569533817705186\n",
            "Fees: -0.5487396847647231\n"
          ]
        }
      ]
    },
    {
      "cell_type": "code",
      "source": [
        "# Group by Distinction and calculate variance\n",
        "variance_by_group = filtered_df.groupby('Distinction_numeric').agg({'No_Sub': 'var', 'Fees': 'var'})\n",
        "\n",
        "print(\"Variance of features by Distinction class:\")\n",
        "print(variance_by_group)"
      ],
      "metadata": {
        "colab": {
          "base_uri": "https://localhost:8080/"
        },
        "id": "y0gjVUiAfrRf",
        "outputId": "0998b8b6-cc83-468c-a19e-51071c00cff8"
      },
      "execution_count": 28,
      "outputs": [
        {
          "output_type": "stream",
          "name": "stdout",
          "text": [
            "Variance of features by Distinction class:\n",
            "                       No_Sub          Fees\n",
            "Distinction_numeric                        \n",
            "0.0                  0.250000  3.270833e+06\n",
            "1.0                  0.333333  6.458333e+05\n"
          ]
        }
      ]
    }
  ]
}